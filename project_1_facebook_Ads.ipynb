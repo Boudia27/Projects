{
  "nbformat": 4,
  "nbformat_minor": 0,
  "metadata": {
    "colab": {
      "provenance": [],
      "mount_file_id": "1azQ6NrGOCJ0EuX9iBN83lx9gclHaY4yH",
      "authorship_tag": "ABX9TyOcpQSjTNZME8KglOKlS7fa",
      "include_colab_link": true
    },
    "kernelspec": {
      "name": "python3",
      "display_name": "Python 3"
    },
    "language_info": {
      "name": "python"
    }
  },
  "cells": [
    {
      "cell_type": "markdown",
      "metadata": {
        "id": "view-in-github",
        "colab_type": "text"
      },
      "source": [
        "<a href=\"https://colab.research.google.com/github/Boudia27/Projects/blob/main/project_1_facebook_Ads.ipynb\" target=\"_parent\"><img src=\"https://colab.research.google.com/assets/colab-badge.svg\" alt=\"Open In Colab\"/></a>"
      ]
    },
    {
      "cell_type": "code",
      "source": [
        "from gensim import corpora\n",
        "from gensim import corpora, models\n",
        "from nltk.corpus import stopwords\n",
        "from nltk.probability import FreqDist\n",
        "from nltk.sentiment import SentimentIntensityAnalyzer\n",
        "from nltk.tokenize import word_tokenize\n",
        "from sklearn.ensemble import RandomForestClassifier\n",
        "from sklearn.linear_model import LogisticRegression\n",
        "from sklearn.metrics import accuracy_score, confusion_matrix, classification_report\n",
        "from sklearn.model_selection import train_test_split\n",
        "from sklearn.preprocessing import StandardScaler\n",
        "from statsmodels.formula.api import ols\n",
        "import gensim\n",
        "import matplotlib.pyplot as plt\n",
        "import nltk\n",
        "import numpy as np\n",
        "import scipy.stats as stats\n",
        "import seaborn as sns\n",
        "import statsmodels.api as sm"
      ],
      "metadata": {
        "id": "5Wpv9wIJVsyh"
      },
      "execution_count": null,
      "outputs": []
    },
    {
      "cell_type": "code",
      "source": [
        "import nltk\n",
        "nltk.download('punkt')\n",
        "nltk.download('vader_lexicon')"
      ],
      "metadata": {
        "colab": {
          "base_uri": "https://localhost:8080/"
        },
        "id": "_iwCaHGuXJZI",
        "outputId": "0a01201a-1237-4ba1-b59b-b94926169aec"
      },
      "execution_count": null,
      "outputs": [
        {
          "output_type": "stream",
          "name": "stderr",
          "text": [
            "[nltk_data] Downloading package punkt to /root/nltk_data...\n",
            "[nltk_data]   Package punkt is already up-to-date!\n",
            "[nltk_data] Downloading package vader_lexicon to /root/nltk_data...\n",
            "[nltk_data]   Package vader_lexicon is already up-to-date!\n"
          ]
        },
        {
          "output_type": "execute_result",
          "data": {
            "text/plain": [
              "True"
            ]
          },
          "metadata": {},
          "execution_count": 50
        }
      ]
    },
    {
      "cell_type": "code",
      "source": [
        "!pip install nltk"
      ],
      "metadata": {
        "colab": {
          "base_uri": "https://localhost:8080/"
        },
        "id": "BODcZeocXL-X",
        "outputId": "5dcab05c-2895-47e1-b8f0-6c6497e34010"
      },
      "execution_count": null,
      "outputs": [
        {
          "output_type": "stream",
          "name": "stdout",
          "text": [
            "Looking in indexes: https://pypi.org/simple, https://us-python.pkg.dev/colab-wheels/public/simple/\n",
            "Requirement already satisfied: nltk in /usr/local/lib/python3.10/dist-packages (3.8.1)\n",
            "Requirement already satisfied: click in /usr/local/lib/python3.10/dist-packages (from nltk) (8.1.3)\n",
            "Requirement already satisfied: joblib in /usr/local/lib/python3.10/dist-packages (from nltk) (1.2.0)\n",
            "Requirement already satisfied: regex>=2021.8.3 in /usr/local/lib/python3.10/dist-packages (from nltk) (2022.10.31)\n",
            "Requirement already satisfied: tqdm in /usr/local/lib/python3.10/dist-packages (from nltk) (4.65.0)\n"
          ]
        }
      ]
    },
    {
      "cell_type": "code",
      "execution_count": null,
      "metadata": {
        "colab": {
          "base_uri": "https://localhost:8080/",
          "height": 577
        },
        "id": "s94dj5moVUjw",
        "outputId": "05651901-279a-475c-efea-a68ff63ed52d"
      },
      "outputs": [
        {
          "output_type": "execute_result",
          "data": {
            "text/plain": [
              "                                           id  \\\n",
              "0  hyperfeed_story_id_5c9baa3ee0ec08073500042   \n",
              "1  hyperfeed_story_id_5c9bb2a2413852086735771   \n",
              "2  hyperfeed_story_id_5c9bb4fa461731e29426627   \n",
              "3                           23843380741530360   \n",
              "4  hyperfeed_story_id_5c9bb059454851c17741213   \n",
              "\n",
              "                                                html  political  \\\n",
              "0  <div class=\"_5pa- userContentWrapper\"><div cla...          0   \n",
              "1  <div class=\"_5pa- userContentWrapper\"><div cla...          0   \n",
              "2  <div class=\"_5pa- userContentWrapper\"><div cla...          0   \n",
              "3  <div class=\"_5pcr userContentWrapper\"><div cla...          0   \n",
              "4  <div class=\"_5pa- userContentWrapper\"><div cla...          0   \n",
              "\n",
              "   not_political                           title  \\\n",
              "0              0   League of Conservation Voters   \n",
              "1              0               Indivisible Guide   \n",
              "2              0  International Rescue Committee   \n",
              "3              0    Covenant House International   \n",
              "4              1              Planned Parenthood   \n",
              "\n",
              "                                             message  \\\n",
              "0  <p>BREAKING: Trump’s Department of the Interio...   \n",
              "1  <p>The Mueller investigation is over. Special ...   \n",
              "2  <p>Zimbabwe is reeling from the impact of Cycl...   \n",
              "3  <p>What more can you do in the final hours of ...   \n",
              "4  <p>Say it loud, say it proud: Our rights, our ...   \n",
              "\n",
              "                                           thumbnail  \\\n",
              "0  https://pp-facebook-ads.s3.amazonaws.com/v/t1....   \n",
              "1  https://pp-facebook-ads.s3.amazonaws.com/v/t1....   \n",
              "2  https://pp-facebook-ads.s3.amazonaws.com/v/t1....   \n",
              "3  https://pp-facebook-ads.s3.amazonaws.com/v/t1....   \n",
              "4  https://pp-facebook-ads.s3.amazonaws.com/v/t1....   \n",
              "\n",
              "                      created_at                     updated_at   lang  ...  \\\n",
              "0  2019-03-27 16:52:25.625455+00  2019-03-27 16:52:25.625455+00  en-US  ...   \n",
              "1  2019-03-27 17:28:14.096849+00  2019-03-27 17:28:14.096849+00  en-US  ...   \n",
              "2  2019-03-27 17:38:23.101377+00  2019-03-27 17:38:23.101377+00  en-US  ...   \n",
              "3  2018-12-30 20:59:13.879124+00  2018-12-30 20:59:13.879124+00  en-US  ...   \n",
              "4  2019-03-27 17:18:29.764002+00  2019-04-11 15:02:58.081112+00  en-US  ...   \n",
              "\n",
              "  suppressed                                            targets  \\\n",
              "0          f                                                 []   \n",
              "1          f                                                 []   \n",
              "2          f                                                 []   \n",
              "3          f  [{\"target\": \"Activity on the Facebook Family\"}...   \n",
              "4          f                                                 []   \n",
              "\n",
              "                     advertiser  \\\n",
              "0                           NaN   \n",
              "1                           NaN   \n",
              "2                           NaN   \n",
              "3  Covenant House International   \n",
              "4                           NaN   \n",
              "\n",
              "                                            entities  \\\n",
              "0  [{\"entity\": \"Endangered Species Act\", \"entity_...   \n",
              "1  [{\"entity\": \"Americans\", \"entity_type\": \"Group...   \n",
              "2  [{\"entity\": \"Zimbabwe\", \"entity_type\": \"Region\"}]   \n",
              "3                                                 []   \n",
              "4  [{\"entity\": \"Planned Parenthood\", \"entity_type...   \n",
              "\n",
              "                                                page  \\\n",
              "0                 https://www.facebook.com/LCVoters/   \n",
              "1         https://www.facebook.com/indivisibleguide/   \n",
              "2  https://www.facebook.com/InternationalRescueCo...   \n",
              "3            https://www.facebook.com/CovenantHouse/   \n",
              "4        https://www.facebook.com/PlannedParenthood/   \n",
              "\n",
              "                                          lower_page  \\\n",
              "0                 https://www.facebook.com/lcvoters/   \n",
              "1         https://www.facebook.com/indivisibleguide/   \n",
              "2  https://www.facebook.com/internationalrescueco...   \n",
              "3            https://www.facebook.com/covenanthouse/   \n",
              "4        https://www.facebook.com/plannedparenthood/   \n",
              "\n",
              "                                          targetings  \\\n",
              "0                                                NaN   \n",
              "1                                                NaN   \n",
              "2                                                NaN   \n",
              "3  {\"<div><div class=\\\"_4-i0 _26c5\\\"><div class=\\...   \n",
              "4                                                NaN   \n",
              "\n",
              "                                paid_for_by targetedness  \\\n",
              "0             League of Conservation Voters          NaN   \n",
              "1                       Indivisible Project          NaN   \n",
              "2            International Rescue Committee          NaN   \n",
              "3              Covenant House International          5.0   \n",
              "4  Planned Parenthood Federation of America          NaN   \n",
              "\n",
              "  listbuilding_fundraising_proba  \n",
              "0                       0.647945  \n",
              "1                       0.350635  \n",
              "2                       0.999909  \n",
              "3                            NaN  \n",
              "4                       0.999977  \n",
              "\n",
              "[5 rows x 24 columns]"
            ],
            "text/html": [
              "\n",
              "  <div id=\"df-b50124e2-a1ca-41a7-bc7f-1fa0cb5168f5\">\n",
              "    <div class=\"colab-df-container\">\n",
              "      <div>\n",
              "<style scoped>\n",
              "    .dataframe tbody tr th:only-of-type {\n",
              "        vertical-align: middle;\n",
              "    }\n",
              "\n",
              "    .dataframe tbody tr th {\n",
              "        vertical-align: top;\n",
              "    }\n",
              "\n",
              "    .dataframe thead th {\n",
              "        text-align: right;\n",
              "    }\n",
              "</style>\n",
              "<table border=\"1\" class=\"dataframe\">\n",
              "  <thead>\n",
              "    <tr style=\"text-align: right;\">\n",
              "      <th></th>\n",
              "      <th>id</th>\n",
              "      <th>html</th>\n",
              "      <th>political</th>\n",
              "      <th>not_political</th>\n",
              "      <th>title</th>\n",
              "      <th>message</th>\n",
              "      <th>thumbnail</th>\n",
              "      <th>created_at</th>\n",
              "      <th>updated_at</th>\n",
              "      <th>lang</th>\n",
              "      <th>...</th>\n",
              "      <th>suppressed</th>\n",
              "      <th>targets</th>\n",
              "      <th>advertiser</th>\n",
              "      <th>entities</th>\n",
              "      <th>page</th>\n",
              "      <th>lower_page</th>\n",
              "      <th>targetings</th>\n",
              "      <th>paid_for_by</th>\n",
              "      <th>targetedness</th>\n",
              "      <th>listbuilding_fundraising_proba</th>\n",
              "    </tr>\n",
              "  </thead>\n",
              "  <tbody>\n",
              "    <tr>\n",
              "      <th>0</th>\n",
              "      <td>hyperfeed_story_id_5c9baa3ee0ec08073500042</td>\n",
              "      <td>&lt;div class=\"_5pa- userContentWrapper\"&gt;&lt;div cla...</td>\n",
              "      <td>0</td>\n",
              "      <td>0</td>\n",
              "      <td>League of Conservation Voters</td>\n",
              "      <td>&lt;p&gt;BREAKING: Trump’s Department of the Interio...</td>\n",
              "      <td>https://pp-facebook-ads.s3.amazonaws.com/v/t1....</td>\n",
              "      <td>2019-03-27 16:52:25.625455+00</td>\n",
              "      <td>2019-03-27 16:52:25.625455+00</td>\n",
              "      <td>en-US</td>\n",
              "      <td>...</td>\n",
              "      <td>f</td>\n",
              "      <td>[]</td>\n",
              "      <td>NaN</td>\n",
              "      <td>[{\"entity\": \"Endangered Species Act\", \"entity_...</td>\n",
              "      <td>https://www.facebook.com/LCVoters/</td>\n",
              "      <td>https://www.facebook.com/lcvoters/</td>\n",
              "      <td>NaN</td>\n",
              "      <td>League of Conservation Voters</td>\n",
              "      <td>NaN</td>\n",
              "      <td>0.647945</td>\n",
              "    </tr>\n",
              "    <tr>\n",
              "      <th>1</th>\n",
              "      <td>hyperfeed_story_id_5c9bb2a2413852086735771</td>\n",
              "      <td>&lt;div class=\"_5pa- userContentWrapper\"&gt;&lt;div cla...</td>\n",
              "      <td>0</td>\n",
              "      <td>0</td>\n",
              "      <td>Indivisible Guide</td>\n",
              "      <td>&lt;p&gt;The Mueller investigation is over. Special ...</td>\n",
              "      <td>https://pp-facebook-ads.s3.amazonaws.com/v/t1....</td>\n",
              "      <td>2019-03-27 17:28:14.096849+00</td>\n",
              "      <td>2019-03-27 17:28:14.096849+00</td>\n",
              "      <td>en-US</td>\n",
              "      <td>...</td>\n",
              "      <td>f</td>\n",
              "      <td>[]</td>\n",
              "      <td>NaN</td>\n",
              "      <td>[{\"entity\": \"Americans\", \"entity_type\": \"Group...</td>\n",
              "      <td>https://www.facebook.com/indivisibleguide/</td>\n",
              "      <td>https://www.facebook.com/indivisibleguide/</td>\n",
              "      <td>NaN</td>\n",
              "      <td>Indivisible Project</td>\n",
              "      <td>NaN</td>\n",
              "      <td>0.350635</td>\n",
              "    </tr>\n",
              "    <tr>\n",
              "      <th>2</th>\n",
              "      <td>hyperfeed_story_id_5c9bb4fa461731e29426627</td>\n",
              "      <td>&lt;div class=\"_5pa- userContentWrapper\"&gt;&lt;div cla...</td>\n",
              "      <td>0</td>\n",
              "      <td>0</td>\n",
              "      <td>International Rescue Committee</td>\n",
              "      <td>&lt;p&gt;Zimbabwe is reeling from the impact of Cycl...</td>\n",
              "      <td>https://pp-facebook-ads.s3.amazonaws.com/v/t1....</td>\n",
              "      <td>2019-03-27 17:38:23.101377+00</td>\n",
              "      <td>2019-03-27 17:38:23.101377+00</td>\n",
              "      <td>en-US</td>\n",
              "      <td>...</td>\n",
              "      <td>f</td>\n",
              "      <td>[]</td>\n",
              "      <td>NaN</td>\n",
              "      <td>[{\"entity\": \"Zimbabwe\", \"entity_type\": \"Region\"}]</td>\n",
              "      <td>https://www.facebook.com/InternationalRescueCo...</td>\n",
              "      <td>https://www.facebook.com/internationalrescueco...</td>\n",
              "      <td>NaN</td>\n",
              "      <td>International Rescue Committee</td>\n",
              "      <td>NaN</td>\n",
              "      <td>0.999909</td>\n",
              "    </tr>\n",
              "    <tr>\n",
              "      <th>3</th>\n",
              "      <td>23843380741530360</td>\n",
              "      <td>&lt;div class=\"_5pcr userContentWrapper\"&gt;&lt;div cla...</td>\n",
              "      <td>0</td>\n",
              "      <td>0</td>\n",
              "      <td>Covenant House International</td>\n",
              "      <td>&lt;p&gt;What more can you do in the final hours of ...</td>\n",
              "      <td>https://pp-facebook-ads.s3.amazonaws.com/v/t1....</td>\n",
              "      <td>2018-12-30 20:59:13.879124+00</td>\n",
              "      <td>2018-12-30 20:59:13.879124+00</td>\n",
              "      <td>en-US</td>\n",
              "      <td>...</td>\n",
              "      <td>f</td>\n",
              "      <td>[{\"target\": \"Activity on the Facebook Family\"}...</td>\n",
              "      <td>Covenant House International</td>\n",
              "      <td>[]</td>\n",
              "      <td>https://www.facebook.com/CovenantHouse/</td>\n",
              "      <td>https://www.facebook.com/covenanthouse/</td>\n",
              "      <td>{\"&lt;div&gt;&lt;div class=\\\"_4-i0 _26c5\\\"&gt;&lt;div class=\\...</td>\n",
              "      <td>Covenant House International</td>\n",
              "      <td>5.0</td>\n",
              "      <td>NaN</td>\n",
              "    </tr>\n",
              "    <tr>\n",
              "      <th>4</th>\n",
              "      <td>hyperfeed_story_id_5c9bb059454851c17741213</td>\n",
              "      <td>&lt;div class=\"_5pa- userContentWrapper\"&gt;&lt;div cla...</td>\n",
              "      <td>0</td>\n",
              "      <td>1</td>\n",
              "      <td>Planned Parenthood</td>\n",
              "      <td>&lt;p&gt;Say it loud, say it proud: Our rights, our ...</td>\n",
              "      <td>https://pp-facebook-ads.s3.amazonaws.com/v/t1....</td>\n",
              "      <td>2019-03-27 17:18:29.764002+00</td>\n",
              "      <td>2019-04-11 15:02:58.081112+00</td>\n",
              "      <td>en-US</td>\n",
              "      <td>...</td>\n",
              "      <td>f</td>\n",
              "      <td>[]</td>\n",
              "      <td>NaN</td>\n",
              "      <td>[{\"entity\": \"Planned Parenthood\", \"entity_type...</td>\n",
              "      <td>https://www.facebook.com/PlannedParenthood/</td>\n",
              "      <td>https://www.facebook.com/plannedparenthood/</td>\n",
              "      <td>NaN</td>\n",
              "      <td>Planned Parenthood Federation of America</td>\n",
              "      <td>NaN</td>\n",
              "      <td>0.999977</td>\n",
              "    </tr>\n",
              "  </tbody>\n",
              "</table>\n",
              "<p>5 rows × 24 columns</p>\n",
              "</div>\n",
              "      <button class=\"colab-df-convert\" onclick=\"convertToInteractive('df-b50124e2-a1ca-41a7-bc7f-1fa0cb5168f5')\"\n",
              "              title=\"Convert this dataframe to an interactive table.\"\n",
              "              style=\"display:none;\">\n",
              "        \n",
              "  <svg xmlns=\"http://www.w3.org/2000/svg\" height=\"24px\"viewBox=\"0 0 24 24\"\n",
              "       width=\"24px\">\n",
              "    <path d=\"M0 0h24v24H0V0z\" fill=\"none\"/>\n",
              "    <path d=\"M18.56 5.44l.94 2.06.94-2.06 2.06-.94-2.06-.94-.94-2.06-.94 2.06-2.06.94zm-11 1L8.5 8.5l.94-2.06 2.06-.94-2.06-.94L8.5 2.5l-.94 2.06-2.06.94zm10 10l.94 2.06.94-2.06 2.06-.94-2.06-.94-.94-2.06-.94 2.06-2.06.94z\"/><path d=\"M17.41 7.96l-1.37-1.37c-.4-.4-.92-.59-1.43-.59-.52 0-1.04.2-1.43.59L10.3 9.45l-7.72 7.72c-.78.78-.78 2.05 0 2.83L4 21.41c.39.39.9.59 1.41.59.51 0 1.02-.2 1.41-.59l7.78-7.78 2.81-2.81c.8-.78.8-2.07 0-2.86zM5.41 20L4 18.59l7.72-7.72 1.47 1.35L5.41 20z\"/>\n",
              "  </svg>\n",
              "      </button>\n",
              "      \n",
              "  <style>\n",
              "    .colab-df-container {\n",
              "      display:flex;\n",
              "      flex-wrap:wrap;\n",
              "      gap: 12px;\n",
              "    }\n",
              "\n",
              "    .colab-df-convert {\n",
              "      background-color: #E8F0FE;\n",
              "      border: none;\n",
              "      border-radius: 50%;\n",
              "      cursor: pointer;\n",
              "      display: none;\n",
              "      fill: #1967D2;\n",
              "      height: 32px;\n",
              "      padding: 0 0 0 0;\n",
              "      width: 32px;\n",
              "    }\n",
              "\n",
              "    .colab-df-convert:hover {\n",
              "      background-color: #E2EBFA;\n",
              "      box-shadow: 0px 1px 2px rgba(60, 64, 67, 0.3), 0px 1px 3px 1px rgba(60, 64, 67, 0.15);\n",
              "      fill: #174EA6;\n",
              "    }\n",
              "\n",
              "    [theme=dark] .colab-df-convert {\n",
              "      background-color: #3B4455;\n",
              "      fill: #D2E3FC;\n",
              "    }\n",
              "\n",
              "    [theme=dark] .colab-df-convert:hover {\n",
              "      background-color: #434B5C;\n",
              "      box-shadow: 0px 1px 3px 1px rgba(0, 0, 0, 0.15);\n",
              "      filter: drop-shadow(0px 1px 2px rgba(0, 0, 0, 0.3));\n",
              "      fill: #FFFFFF;\n",
              "    }\n",
              "  </style>\n",
              "\n",
              "      <script>\n",
              "        const buttonEl =\n",
              "          document.querySelector('#df-b50124e2-a1ca-41a7-bc7f-1fa0cb5168f5 button.colab-df-convert');\n",
              "        buttonEl.style.display =\n",
              "          google.colab.kernel.accessAllowed ? 'block' : 'none';\n",
              "\n",
              "        async function convertToInteractive(key) {\n",
              "          const element = document.querySelector('#df-b50124e2-a1ca-41a7-bc7f-1fa0cb5168f5');\n",
              "          const dataTable =\n",
              "            await google.colab.kernel.invokeFunction('convertToInteractive',\n",
              "                                                     [key], {});\n",
              "          if (!dataTable) return;\n",
              "\n",
              "          const docLinkHtml = 'Like what you see? Visit the ' +\n",
              "            '<a target=\"_blank\" href=https://colab.research.google.com/notebooks/data_table.ipynb>data table notebook</a>'\n",
              "            + ' to learn more about interactive tables.';\n",
              "          element.innerHTML = '';\n",
              "          dataTable['output_type'] = 'display_data';\n",
              "          await google.colab.output.renderOutput(dataTable, element);\n",
              "          const docLink = document.createElement('div');\n",
              "          docLink.innerHTML = docLinkHtml;\n",
              "          element.appendChild(docLink);\n",
              "        }\n",
              "      </script>\n",
              "    </div>\n",
              "  </div>\n",
              "  "
            ]
          },
          "metadata": {},
          "execution_count": 52
        }
      ],
      "source": [
        "data = pd.read_csv('/content/drive/MyDrive/Projects/project_1_Political_Advertisements_from_Facebook/fbpac-ads-en-US.csv')\n",
        "data.head()"
      ]
    },
    {
      "cell_type": "code",
      "source": [
        "data.head()"
      ],
      "metadata": {
        "colab": {
          "base_uri": "https://localhost:8080/",
          "height": 577
        },
        "id": "a4VPG-g1WMam",
        "outputId": "a4fbe09b-5b3c-4024-afca-fb784afef012"
      },
      "execution_count": null,
      "outputs": [
        {
          "output_type": "execute_result",
          "data": {
            "text/plain": [
              "                                           id  \\\n",
              "0  hyperfeed_story_id_5c9baa3ee0ec08073500042   \n",
              "1  hyperfeed_story_id_5c9bb2a2413852086735771   \n",
              "2  hyperfeed_story_id_5c9bb4fa461731e29426627   \n",
              "3                           23843380741530360   \n",
              "4  hyperfeed_story_id_5c9bb059454851c17741213   \n",
              "\n",
              "                                                html  political  \\\n",
              "0  <div class=\"_5pa- userContentWrapper\"><div cla...          0   \n",
              "1  <div class=\"_5pa- userContentWrapper\"><div cla...          0   \n",
              "2  <div class=\"_5pa- userContentWrapper\"><div cla...          0   \n",
              "3  <div class=\"_5pcr userContentWrapper\"><div cla...          0   \n",
              "4  <div class=\"_5pa- userContentWrapper\"><div cla...          0   \n",
              "\n",
              "   not_political                           title  \\\n",
              "0              0   League of Conservation Voters   \n",
              "1              0               Indivisible Guide   \n",
              "2              0  International Rescue Committee   \n",
              "3              0    Covenant House International   \n",
              "4              1              Planned Parenthood   \n",
              "\n",
              "                                             message  \\\n",
              "0  <p>BREAKING: Trump’s Department of the Interio...   \n",
              "1  <p>The Mueller investigation is over. Special ...   \n",
              "2  <p>Zimbabwe is reeling from the impact of Cycl...   \n",
              "3  <p>What more can you do in the final hours of ...   \n",
              "4  <p>Say it loud, say it proud: Our rights, our ...   \n",
              "\n",
              "                                           thumbnail  \\\n",
              "0  https://pp-facebook-ads.s3.amazonaws.com/v/t1....   \n",
              "1  https://pp-facebook-ads.s3.amazonaws.com/v/t1....   \n",
              "2  https://pp-facebook-ads.s3.amazonaws.com/v/t1....   \n",
              "3  https://pp-facebook-ads.s3.amazonaws.com/v/t1....   \n",
              "4  https://pp-facebook-ads.s3.amazonaws.com/v/t1....   \n",
              "\n",
              "                      created_at                     updated_at   lang  ...  \\\n",
              "0  2019-03-27 16:52:25.625455+00  2019-03-27 16:52:25.625455+00  en-US  ...   \n",
              "1  2019-03-27 17:28:14.096849+00  2019-03-27 17:28:14.096849+00  en-US  ...   \n",
              "2  2019-03-27 17:38:23.101377+00  2019-03-27 17:38:23.101377+00  en-US  ...   \n",
              "3  2018-12-30 20:59:13.879124+00  2018-12-30 20:59:13.879124+00  en-US  ...   \n",
              "4  2019-03-27 17:18:29.764002+00  2019-04-11 15:02:58.081112+00  en-US  ...   \n",
              "\n",
              "  suppressed                                            targets  \\\n",
              "0          f                                                 []   \n",
              "1          f                                                 []   \n",
              "2          f                                                 []   \n",
              "3          f  [{\"target\": \"Activity on the Facebook Family\"}...   \n",
              "4          f                                                 []   \n",
              "\n",
              "                     advertiser  \\\n",
              "0                           NaN   \n",
              "1                           NaN   \n",
              "2                           NaN   \n",
              "3  Covenant House International   \n",
              "4                           NaN   \n",
              "\n",
              "                                            entities  \\\n",
              "0  [{\"entity\": \"Endangered Species Act\", \"entity_...   \n",
              "1  [{\"entity\": \"Americans\", \"entity_type\": \"Group...   \n",
              "2  [{\"entity\": \"Zimbabwe\", \"entity_type\": \"Region\"}]   \n",
              "3                                                 []   \n",
              "4  [{\"entity\": \"Planned Parenthood\", \"entity_type...   \n",
              "\n",
              "                                                page  \\\n",
              "0                 https://www.facebook.com/LCVoters/   \n",
              "1         https://www.facebook.com/indivisibleguide/   \n",
              "2  https://www.facebook.com/InternationalRescueCo...   \n",
              "3            https://www.facebook.com/CovenantHouse/   \n",
              "4        https://www.facebook.com/PlannedParenthood/   \n",
              "\n",
              "                                          lower_page  \\\n",
              "0                 https://www.facebook.com/lcvoters/   \n",
              "1         https://www.facebook.com/indivisibleguide/   \n",
              "2  https://www.facebook.com/internationalrescueco...   \n",
              "3            https://www.facebook.com/covenanthouse/   \n",
              "4        https://www.facebook.com/plannedparenthood/   \n",
              "\n",
              "                                          targetings  \\\n",
              "0                                                NaN   \n",
              "1                                                NaN   \n",
              "2                                                NaN   \n",
              "3  {\"<div><div class=\\\"_4-i0 _26c5\\\"><div class=\\...   \n",
              "4                                                NaN   \n",
              "\n",
              "                                paid_for_by targetedness  \\\n",
              "0             League of Conservation Voters          NaN   \n",
              "1                       Indivisible Project          NaN   \n",
              "2            International Rescue Committee          NaN   \n",
              "3              Covenant House International          5.0   \n",
              "4  Planned Parenthood Federation of America          NaN   \n",
              "\n",
              "  listbuilding_fundraising_proba  \n",
              "0                       0.647945  \n",
              "1                       0.350635  \n",
              "2                       0.999909  \n",
              "3                            NaN  \n",
              "4                       0.999977  \n",
              "\n",
              "[5 rows x 24 columns]"
            ],
            "text/html": [
              "\n",
              "  <div id=\"df-77bb0e22-04df-43ca-b009-054f848dc3cf\">\n",
              "    <div class=\"colab-df-container\">\n",
              "      <div>\n",
              "<style scoped>\n",
              "    .dataframe tbody tr th:only-of-type {\n",
              "        vertical-align: middle;\n",
              "    }\n",
              "\n",
              "    .dataframe tbody tr th {\n",
              "        vertical-align: top;\n",
              "    }\n",
              "\n",
              "    .dataframe thead th {\n",
              "        text-align: right;\n",
              "    }\n",
              "</style>\n",
              "<table border=\"1\" class=\"dataframe\">\n",
              "  <thead>\n",
              "    <tr style=\"text-align: right;\">\n",
              "      <th></th>\n",
              "      <th>id</th>\n",
              "      <th>html</th>\n",
              "      <th>political</th>\n",
              "      <th>not_political</th>\n",
              "      <th>title</th>\n",
              "      <th>message</th>\n",
              "      <th>thumbnail</th>\n",
              "      <th>created_at</th>\n",
              "      <th>updated_at</th>\n",
              "      <th>lang</th>\n",
              "      <th>...</th>\n",
              "      <th>suppressed</th>\n",
              "      <th>targets</th>\n",
              "      <th>advertiser</th>\n",
              "      <th>entities</th>\n",
              "      <th>page</th>\n",
              "      <th>lower_page</th>\n",
              "      <th>targetings</th>\n",
              "      <th>paid_for_by</th>\n",
              "      <th>targetedness</th>\n",
              "      <th>listbuilding_fundraising_proba</th>\n",
              "    </tr>\n",
              "  </thead>\n",
              "  <tbody>\n",
              "    <tr>\n",
              "      <th>0</th>\n",
              "      <td>hyperfeed_story_id_5c9baa3ee0ec08073500042</td>\n",
              "      <td>&lt;div class=\"_5pa- userContentWrapper\"&gt;&lt;div cla...</td>\n",
              "      <td>0</td>\n",
              "      <td>0</td>\n",
              "      <td>League of Conservation Voters</td>\n",
              "      <td>&lt;p&gt;BREAKING: Trump’s Department of the Interio...</td>\n",
              "      <td>https://pp-facebook-ads.s3.amazonaws.com/v/t1....</td>\n",
              "      <td>2019-03-27 16:52:25.625455+00</td>\n",
              "      <td>2019-03-27 16:52:25.625455+00</td>\n",
              "      <td>en-US</td>\n",
              "      <td>...</td>\n",
              "      <td>f</td>\n",
              "      <td>[]</td>\n",
              "      <td>NaN</td>\n",
              "      <td>[{\"entity\": \"Endangered Species Act\", \"entity_...</td>\n",
              "      <td>https://www.facebook.com/LCVoters/</td>\n",
              "      <td>https://www.facebook.com/lcvoters/</td>\n",
              "      <td>NaN</td>\n",
              "      <td>League of Conservation Voters</td>\n",
              "      <td>NaN</td>\n",
              "      <td>0.647945</td>\n",
              "    </tr>\n",
              "    <tr>\n",
              "      <th>1</th>\n",
              "      <td>hyperfeed_story_id_5c9bb2a2413852086735771</td>\n",
              "      <td>&lt;div class=\"_5pa- userContentWrapper\"&gt;&lt;div cla...</td>\n",
              "      <td>0</td>\n",
              "      <td>0</td>\n",
              "      <td>Indivisible Guide</td>\n",
              "      <td>&lt;p&gt;The Mueller investigation is over. Special ...</td>\n",
              "      <td>https://pp-facebook-ads.s3.amazonaws.com/v/t1....</td>\n",
              "      <td>2019-03-27 17:28:14.096849+00</td>\n",
              "      <td>2019-03-27 17:28:14.096849+00</td>\n",
              "      <td>en-US</td>\n",
              "      <td>...</td>\n",
              "      <td>f</td>\n",
              "      <td>[]</td>\n",
              "      <td>NaN</td>\n",
              "      <td>[{\"entity\": \"Americans\", \"entity_type\": \"Group...</td>\n",
              "      <td>https://www.facebook.com/indivisibleguide/</td>\n",
              "      <td>https://www.facebook.com/indivisibleguide/</td>\n",
              "      <td>NaN</td>\n",
              "      <td>Indivisible Project</td>\n",
              "      <td>NaN</td>\n",
              "      <td>0.350635</td>\n",
              "    </tr>\n",
              "    <tr>\n",
              "      <th>2</th>\n",
              "      <td>hyperfeed_story_id_5c9bb4fa461731e29426627</td>\n",
              "      <td>&lt;div class=\"_5pa- userContentWrapper\"&gt;&lt;div cla...</td>\n",
              "      <td>0</td>\n",
              "      <td>0</td>\n",
              "      <td>International Rescue Committee</td>\n",
              "      <td>&lt;p&gt;Zimbabwe is reeling from the impact of Cycl...</td>\n",
              "      <td>https://pp-facebook-ads.s3.amazonaws.com/v/t1....</td>\n",
              "      <td>2019-03-27 17:38:23.101377+00</td>\n",
              "      <td>2019-03-27 17:38:23.101377+00</td>\n",
              "      <td>en-US</td>\n",
              "      <td>...</td>\n",
              "      <td>f</td>\n",
              "      <td>[]</td>\n",
              "      <td>NaN</td>\n",
              "      <td>[{\"entity\": \"Zimbabwe\", \"entity_type\": \"Region\"}]</td>\n",
              "      <td>https://www.facebook.com/InternationalRescueCo...</td>\n",
              "      <td>https://www.facebook.com/internationalrescueco...</td>\n",
              "      <td>NaN</td>\n",
              "      <td>International Rescue Committee</td>\n",
              "      <td>NaN</td>\n",
              "      <td>0.999909</td>\n",
              "    </tr>\n",
              "    <tr>\n",
              "      <th>3</th>\n",
              "      <td>23843380741530360</td>\n",
              "      <td>&lt;div class=\"_5pcr userContentWrapper\"&gt;&lt;div cla...</td>\n",
              "      <td>0</td>\n",
              "      <td>0</td>\n",
              "      <td>Covenant House International</td>\n",
              "      <td>&lt;p&gt;What more can you do in the final hours of ...</td>\n",
              "      <td>https://pp-facebook-ads.s3.amazonaws.com/v/t1....</td>\n",
              "      <td>2018-12-30 20:59:13.879124+00</td>\n",
              "      <td>2018-12-30 20:59:13.879124+00</td>\n",
              "      <td>en-US</td>\n",
              "      <td>...</td>\n",
              "      <td>f</td>\n",
              "      <td>[{\"target\": \"Activity on the Facebook Family\"}...</td>\n",
              "      <td>Covenant House International</td>\n",
              "      <td>[]</td>\n",
              "      <td>https://www.facebook.com/CovenantHouse/</td>\n",
              "      <td>https://www.facebook.com/covenanthouse/</td>\n",
              "      <td>{\"&lt;div&gt;&lt;div class=\\\"_4-i0 _26c5\\\"&gt;&lt;div class=\\...</td>\n",
              "      <td>Covenant House International</td>\n",
              "      <td>5.0</td>\n",
              "      <td>NaN</td>\n",
              "    </tr>\n",
              "    <tr>\n",
              "      <th>4</th>\n",
              "      <td>hyperfeed_story_id_5c9bb059454851c17741213</td>\n",
              "      <td>&lt;div class=\"_5pa- userContentWrapper\"&gt;&lt;div cla...</td>\n",
              "      <td>0</td>\n",
              "      <td>1</td>\n",
              "      <td>Planned Parenthood</td>\n",
              "      <td>&lt;p&gt;Say it loud, say it proud: Our rights, our ...</td>\n",
              "      <td>https://pp-facebook-ads.s3.amazonaws.com/v/t1....</td>\n",
              "      <td>2019-03-27 17:18:29.764002+00</td>\n",
              "      <td>2019-04-11 15:02:58.081112+00</td>\n",
              "      <td>en-US</td>\n",
              "      <td>...</td>\n",
              "      <td>f</td>\n",
              "      <td>[]</td>\n",
              "      <td>NaN</td>\n",
              "      <td>[{\"entity\": \"Planned Parenthood\", \"entity_type...</td>\n",
              "      <td>https://www.facebook.com/PlannedParenthood/</td>\n",
              "      <td>https://www.facebook.com/plannedparenthood/</td>\n",
              "      <td>NaN</td>\n",
              "      <td>Planned Parenthood Federation of America</td>\n",
              "      <td>NaN</td>\n",
              "      <td>0.999977</td>\n",
              "    </tr>\n",
              "  </tbody>\n",
              "</table>\n",
              "<p>5 rows × 24 columns</p>\n",
              "</div>\n",
              "      <button class=\"colab-df-convert\" onclick=\"convertToInteractive('df-77bb0e22-04df-43ca-b009-054f848dc3cf')\"\n",
              "              title=\"Convert this dataframe to an interactive table.\"\n",
              "              style=\"display:none;\">\n",
              "        \n",
              "  <svg xmlns=\"http://www.w3.org/2000/svg\" height=\"24px\"viewBox=\"0 0 24 24\"\n",
              "       width=\"24px\">\n",
              "    <path d=\"M0 0h24v24H0V0z\" fill=\"none\"/>\n",
              "    <path d=\"M18.56 5.44l.94 2.06.94-2.06 2.06-.94-2.06-.94-.94-2.06-.94 2.06-2.06.94zm-11 1L8.5 8.5l.94-2.06 2.06-.94-2.06-.94L8.5 2.5l-.94 2.06-2.06.94zm10 10l.94 2.06.94-2.06 2.06-.94-2.06-.94-.94-2.06-.94 2.06-2.06.94z\"/><path d=\"M17.41 7.96l-1.37-1.37c-.4-.4-.92-.59-1.43-.59-.52 0-1.04.2-1.43.59L10.3 9.45l-7.72 7.72c-.78.78-.78 2.05 0 2.83L4 21.41c.39.39.9.59 1.41.59.51 0 1.02-.2 1.41-.59l7.78-7.78 2.81-2.81c.8-.78.8-2.07 0-2.86zM5.41 20L4 18.59l7.72-7.72 1.47 1.35L5.41 20z\"/>\n",
              "  </svg>\n",
              "      </button>\n",
              "      \n",
              "  <style>\n",
              "    .colab-df-container {\n",
              "      display:flex;\n",
              "      flex-wrap:wrap;\n",
              "      gap: 12px;\n",
              "    }\n",
              "\n",
              "    .colab-df-convert {\n",
              "      background-color: #E8F0FE;\n",
              "      border: none;\n",
              "      border-radius: 50%;\n",
              "      cursor: pointer;\n",
              "      display: none;\n",
              "      fill: #1967D2;\n",
              "      height: 32px;\n",
              "      padding: 0 0 0 0;\n",
              "      width: 32px;\n",
              "    }\n",
              "\n",
              "    .colab-df-convert:hover {\n",
              "      background-color: #E2EBFA;\n",
              "      box-shadow: 0px 1px 2px rgba(60, 64, 67, 0.3), 0px 1px 3px 1px rgba(60, 64, 67, 0.15);\n",
              "      fill: #174EA6;\n",
              "    }\n",
              "\n",
              "    [theme=dark] .colab-df-convert {\n",
              "      background-color: #3B4455;\n",
              "      fill: #D2E3FC;\n",
              "    }\n",
              "\n",
              "    [theme=dark] .colab-df-convert:hover {\n",
              "      background-color: #434B5C;\n",
              "      box-shadow: 0px 1px 3px 1px rgba(0, 0, 0, 0.15);\n",
              "      filter: drop-shadow(0px 1px 2px rgba(0, 0, 0, 0.3));\n",
              "      fill: #FFFFFF;\n",
              "    }\n",
              "  </style>\n",
              "\n",
              "      <script>\n",
              "        const buttonEl =\n",
              "          document.querySelector('#df-77bb0e22-04df-43ca-b009-054f848dc3cf button.colab-df-convert');\n",
              "        buttonEl.style.display =\n",
              "          google.colab.kernel.accessAllowed ? 'block' : 'none';\n",
              "\n",
              "        async function convertToInteractive(key) {\n",
              "          const element = document.querySelector('#df-77bb0e22-04df-43ca-b009-054f848dc3cf');\n",
              "          const dataTable =\n",
              "            await google.colab.kernel.invokeFunction('convertToInteractive',\n",
              "                                                     [key], {});\n",
              "          if (!dataTable) return;\n",
              "\n",
              "          const docLinkHtml = 'Like what you see? Visit the ' +\n",
              "            '<a target=\"_blank\" href=https://colab.research.google.com/notebooks/data_table.ipynb>data table notebook</a>'\n",
              "            + ' to learn more about interactive tables.';\n",
              "          element.innerHTML = '';\n",
              "          dataTable['output_type'] = 'display_data';\n",
              "          await google.colab.output.renderOutput(dataTable, element);\n",
              "          const docLink = document.createElement('div');\n",
              "          docLink.innerHTML = docLinkHtml;\n",
              "          element.appendChild(docLink);\n",
              "        }\n",
              "      </script>\n",
              "    </div>\n",
              "  </div>\n",
              "  "
            ]
          },
          "metadata": {},
          "execution_count": 53
        }
      ]
    },
    {
      "cell_type": "code",
      "source": [
        "print(data.columns)"
      ],
      "metadata": {
        "colab": {
          "base_uri": "https://localhost:8080/"
        },
        "id": "bNsEQNrtWTzX",
        "outputId": "d435c98d-7934-4e4e-dc88-45afd2e05c11"
      },
      "execution_count": null,
      "outputs": [
        {
          "output_type": "stream",
          "name": "stdout",
          "text": [
            "Index(['id', 'html', 'political', 'not_political', 'title', 'message',\n",
            "       'thumbnail', 'created_at', 'updated_at', 'lang', 'images',\n",
            "       'impressions', 'political_probability', 'targeting', 'suppressed',\n",
            "       'targets', 'advertiser', 'entities', 'page', 'lower_page', 'targetings',\n",
            "       'paid_for_by', 'targetedness', 'listbuilding_fundraising_proba'],\n",
            "      dtype='object')\n"
          ]
        }
      ]
    },
    {
      "cell_type": "code",
      "source": [
        "data.info()"
      ],
      "metadata": {
        "colab": {
          "base_uri": "https://localhost:8080/"
        },
        "id": "kMLr1yJKWXi0",
        "outputId": "d6b4ed0b-996a-4b8e-d75d-0061da9afe26"
      },
      "execution_count": null,
      "outputs": [
        {
          "output_type": "stream",
          "name": "stdout",
          "text": [
            "<class 'pandas.core.frame.DataFrame'>\n",
            "RangeIndex: 162324 entries, 0 to 162323\n",
            "Data columns (total 24 columns):\n",
            " #   Column                          Non-Null Count   Dtype  \n",
            "---  ------                          --------------   -----  \n",
            " 0   id                              162324 non-null  object \n",
            " 1   html                            162324 non-null  object \n",
            " 2   political                       162324 non-null  int64  \n",
            " 3   not_political                   162324 non-null  int64  \n",
            " 4   title                           162306 non-null  object \n",
            " 5   message                         162324 non-null  object \n",
            " 6   thumbnail                       162324 non-null  object \n",
            " 7   created_at                      162324 non-null  object \n",
            " 8   updated_at                      162324 non-null  object \n",
            " 9   lang                            162324 non-null  object \n",
            " 10  images                          162324 non-null  object \n",
            " 11  impressions                     162324 non-null  int64  \n",
            " 12  political_probability           162324 non-null  float64\n",
            " 13  targeting                       116066 non-null  object \n",
            " 14  suppressed                      162324 non-null  object \n",
            " 15  targets                         158117 non-null  object \n",
            " 16  advertiser                      124613 non-null  object \n",
            " 17  entities                        158658 non-null  object \n",
            " 18  page                            159764 non-null  object \n",
            " 19  lower_page                      159764 non-null  object \n",
            " 20  targetings                      114062 non-null  object \n",
            " 21  paid_for_by                     112045 non-null  object \n",
            " 22  targetedness                    112747 non-null  float64\n",
            " 23  listbuilding_fundraising_proba  152394 non-null  float64\n",
            "dtypes: float64(3), int64(3), object(18)\n",
            "memory usage: 29.7+ MB\n"
          ]
        }
      ]
    },
    {
      "cell_type": "code",
      "source": [
        "data.isnull().sum()"
      ],
      "metadata": {
        "colab": {
          "base_uri": "https://localhost:8080/"
        },
        "id": "9mKfBVCRWXk1",
        "outputId": "446a9515-8520-42c4-8f6b-2968c998e3f3"
      },
      "execution_count": null,
      "outputs": [
        {
          "output_type": "execute_result",
          "data": {
            "text/plain": [
              "id                                    0\n",
              "html                                  0\n",
              "political                             0\n",
              "not_political                         0\n",
              "title                                18\n",
              "message                               0\n",
              "thumbnail                             0\n",
              "created_at                            0\n",
              "updated_at                            0\n",
              "lang                                  0\n",
              "images                                0\n",
              "impressions                           0\n",
              "political_probability                 0\n",
              "targeting                         46258\n",
              "suppressed                            0\n",
              "targets                            4207\n",
              "advertiser                        37711\n",
              "entities                           3666\n",
              "page                               2560\n",
              "lower_page                         2560\n",
              "targetings                        48262\n",
              "paid_for_by                       50279\n",
              "targetedness                      49577\n",
              "listbuilding_fundraising_proba     9930\n",
              "dtype: int64"
            ]
          },
          "metadata": {},
          "execution_count": 8
        }
      ]
    },
    {
      "cell_type": "markdown",
      "source": [
        "# Standardization, normalization, and encoding of categorical variables"
      ],
      "metadata": {
        "id": "XHy2YG1pr2zH"
      }
    },
    {
      "cell_type": "code",
      "source": [
        "import pandas as pd\n",
        "from sklearn.preprocessing import StandardScaler, MinMaxScaler, LabelEncoder\n",
        "\n",
        "# Standardization\n",
        "standard_scaler = StandardScaler()\n",
        "data['impressions_standardized'] = standard_scaler.fit_transform(data[['impressions']])\n",
        "\n",
        "# Normalization\n",
        "minmax_scaler = MinMaxScaler()\n",
        "data['impressions_normalized'] = minmax_scaler.fit_transform(data[['impressions']])\n",
        "\n",
        "# Encoding Categorical Variables\n",
        "label_encoder = LabelEncoder()\n",
        "data['political_encoded'] = label_encoder.fit_transform(data['political'])\n",
        "data['not_political_encoded'] = label_encoder.fit_transform(data['not_political'])\n",
        "\n",
        "# Print the transformed data\n",
        "print(data[['impressions', 'impressions_standardized', 'impressions_normalized', 'political', 'political_encoded', 'not_political', 'not_political_encoded']])\n"
      ],
      "metadata": {
        "colab": {
          "base_uri": "https://localhost:8080/"
        },
        "id": "JYR7cgldrmyi",
        "outputId": "733ca246-e0f0-488c-9f16-4928b0526f28"
      },
      "execution_count": null,
      "outputs": [
        {
          "output_type": "stream",
          "name": "stdout",
          "text": [
            "        impressions  impressions_standardized  impressions_normalized  \\\n",
            "3                 1                 -0.244820                0.003145   \n",
            "20                1                 -0.244820                0.003145   \n",
            "23                5                  0.583919                0.015723   \n",
            "32                3                  0.169550                0.009434   \n",
            "38                2                 -0.037635                0.006289   \n",
            "...             ...                       ...                     ...   \n",
            "162317            1                 -0.244820                0.003145   \n",
            "162319            1                 -0.244820                0.003145   \n",
            "162320            1                 -0.244820                0.003145   \n",
            "162321            1                 -0.244820                0.003145   \n",
            "162323            3                  0.169550                0.009434   \n",
            "\n",
            "        political  political_encoded  not_political  not_political_encoded  \n",
            "3               0                  0              0                      0  \n",
            "20              0                  0              0                      0  \n",
            "23              0                  0              0                      0  \n",
            "32              4                  4              1                      1  \n",
            "38              4                  4              1                      1  \n",
            "...           ...                ...            ...                    ...  \n",
            "162317          0                  0              0                      0  \n",
            "162319         12                 12              0                      0  \n",
            "162320          0                  0              0                      0  \n",
            "162321          0                  0              0                      0  \n",
            "162323          0                  0              0                      0  \n",
            "\n",
            "[74974 rows x 7 columns]\n"
          ]
        }
      ]
    },
    {
      "cell_type": "markdown",
      "source": [
        "# Clean data"
      ],
      "metadata": {
        "id": "CL95a0SWWoU0"
      }
    },
    {
      "cell_type": "code",
      "source": [
        "# Select only the columns of interest\n",
        "columns_to_keep = ['id', 'political', 'not_political', 'title', 'message', 'created_at', 'updated_at', 'lang', 'impressions', 'political_probability', 'targeting', 'suppressed', 'advertiser', 'paid_for_by']\n",
        "data = data[columns_to_keep]\n",
        "\n",
        "# Drop any rows with missing values\n",
        "data = data.dropna()\n",
        "\n",
        "# Convert 'created_at' and 'updated_at' columns to datetime format\n",
        "data['created_at'] = pd.to_datetime(data['created_at'])\n",
        "data['updated_at'] = pd.to_datetime(data['updated_at'])\n",
        "\n",
        "# Remove any leading or trailing whitespace in string columns\n",
        "string_columns = ['id', 'title', 'message', 'lang', 'targeting', 'advertiser', 'paid_for_by']\n",
        "data[string_columns] = data[string_columns].apply(lambda x: x.str.strip())\n",
        "\n",
        "# Print the cleaned DataFrame\n",
        "print(data.head())\n"
      ],
      "metadata": {
        "colab": {
          "base_uri": "https://localhost:8080/"
        },
        "id": "HYArQSKwWXna",
        "outputId": "18ffd427-ae73-4a56-957e-e2d303d8ebb7"
      },
      "execution_count": null,
      "outputs": [
        {
          "output_type": "stream",
          "name": "stdout",
          "text": [
            "                   id  political  not_political  \\\n",
            "3   23843380741530360          0              0   \n",
            "20  23843267430160083          0              0   \n",
            "23  23843047113450081          0              0   \n",
            "32  23842930886360741          4              1   \n",
            "38      6097228149803          4              1   \n",
            "\n",
            "                              title  \\\n",
            "3      Covenant House International   \n",
            "20                         BOLD PAC   \n",
            "23  Secure Financial Advisory Group   \n",
            "32      Great Public Schools for US   \n",
            "38               The Christian Left   \n",
            "\n",
            "                                              message  \\\n",
            "3   <p>What more can you do in the final hours of ...   \n",
            "20  <p>Donald Trump HATES anybody that tells the t...   \n",
            "23  <div class=\"mbs _6m6 _2cnj _5s6c\"><a href=\"htt...   \n",
            "32  <div class=\"mbs _5pbx\" id=\"js_26\">We're fighti...   \n",
            "38  <p>Human Rights Are Not Optional</p><p> Availa...   \n",
            "\n",
            "                         created_at                       updated_at   lang  \\\n",
            "3  2018-12-30 20:59:13.879124+00:00 2018-12-30 20:59:13.879124+00:00  en-US   \n",
            "20 2019-03-27 17:12:16.907954+00:00 2019-03-27 17:12:16.907954+00:00  en-US   \n",
            "23 2018-10-29 00:49:48.487444+00:00 2018-10-30 18:58:22.182822+00:00  en-US   \n",
            "32 2018-11-29 06:23:22.075256+00:00 2019-01-02 21:20:22.334470+00:00  en-US   \n",
            "38 2018-09-13 20:49:05.093272+00:00 2018-09-14 09:36:47.814209+00:00  en-US   \n",
            "\n",
            "    impressions  political_probability  \\\n",
            "3             1               0.360711   \n",
            "20            1               0.999405   \n",
            "23            5               0.988258   \n",
            "32            3               0.980431   \n",
            "38            2               0.876987   \n",
            "\n",
            "                                            targeting suppressed  \\\n",
            "3   <div><div class=\"_4-i0 _26c5\"><div class=\"clea...          f   \n",
            "20  <div><div class=\"_4-i0 _26c5\"><div class=\"clea...          f   \n",
            "23  <div><div class=\"_4-i0 _26c5\"><div class=\"clea...          f   \n",
            "32  <div><div class=\"_4-i0 _26c5\"><div class=\"clea...          f   \n",
            "38  <div><div class=\"_4-i0 _26c5\"><div class=\"clea...          f   \n",
            "\n",
            "                         advertiser                      paid_for_by  \n",
            "3      Covenant House International     Covenant House International  \n",
            "20                         BOLD PAC                     CHC BOLD PAC  \n",
            "23  Secure Financial Advisory Group  Secure Financial Advisory Group  \n",
            "32      Great Public Schools for US      Great Public Schools for US  \n",
            "38               The Christian Left               The Christian Left  \n"
          ]
        }
      ]
    },
    {
      "cell_type": "markdown",
      "source": [
        "# Text Analysis"
      ],
      "metadata": {
        "id": "uNM6Yvj_XCda"
      }
    },
    {
      "cell_type": "code",
      "source": [
        "# Concatenate 'title' and 'message' columns into a single text column\n",
        "data['text'] = data['title'].fillna('') + ' ' + data['message'].fillna('')\n",
        "\n",
        "# Tokenize the words\n",
        "data['tokens'] = data['text'].apply(word_tokenize)\n",
        "\n",
        "# Flatten the tokenized words into a single list\n",
        "all_words = [word for tokens in data['tokens'] for word in tokens]\n",
        "\n",
        "# Calculate the word frequency distribution\n",
        "freq_dist = FreqDist(all_words)\n",
        "\n",
        "# Display the most common words\n",
        "num_words = 10  # Number of most common words to display\n",
        "print(\"Most common words:\")\n",
        "for word, frequency in freq_dist.most_common(num_words):\n",
        "    print(word, \":\", frequency)"
      ],
      "metadata": {
        "colab": {
          "base_uri": "https://localhost:8080/"
        },
        "id": "OoF2ZFfwWXpI",
        "outputId": "e276d771-4f55-4be0-8853-e48bdcea9706"
      },
      "execution_count": null,
      "outputs": [
        {
          "output_type": "stream",
          "name": "stdout",
          "text": [
            "Most common words:\n",
            "< : 738421\n",
            "> : 738421\n",
            "'' : 549469\n",
            "class= : 204150\n",
            "to : 153629\n",
            "the : 149607\n",
            ". : 148478\n",
            ", : 140091\n",
            "p : 129314\n",
            "/p : 129277\n"
          ]
        }
      ]
    },
    {
      "cell_type": "markdown",
      "source": [
        "# Topic Modeling (using LDA)"
      ],
      "metadata": {
        "id": "Ij1yRRrAXgO6"
      }
    },
    {
      "cell_type": "code",
      "source": [
        "# Create a dictionary from the tokenized texts\n",
        "dictionary = corpora.Dictionary()\n",
        "\n",
        "# Add documents to the dictionary\n",
        "for text in data['tokens']:\n",
        "    dictionary.add_documents([text])\n",
        "\n",
        "# Perform topic modeling using LDA\n",
        "num_topics = 5  # Specify the number of topics\n",
        "lda_model = models.LdaModel(id2word=dictionary, num_topics=num_topics, passes=10)\n",
        "\n",
        "# Display the topics and their corresponding words\n",
        "print(\"Topics:\")\n",
        "for idx, topic in lda_model.print_topics():\n",
        "    print(\"Topic\", idx + 1, \":\", topic)\n"
      ],
      "metadata": {
        "colab": {
          "base_uri": "https://localhost:8080/"
        },
        "id": "zWZA-XOHZjNw",
        "outputId": "455d2e49-8068-48d7-ce7a-105cea30961d"
      },
      "execution_count": null,
      "outputs": [
        {
          "output_type": "stream",
          "name": "stdout",
          "text": [
            "Topics:\n",
            "Topic 1 : 0.000*\"382\" + 0.000*\"formal\" + 0.000*\"grill\" + 0.000*\"u_fetchstream_5_1i\" + 0.000*\"Wurtzel\" + 0.000*\"//www.facebook.com/earthlawcenter/\" + 0.000*\"Ground\" + 0.000*\"Gustafson\" + 0.000*\"u_fetchstream_2_42\" + 0.000*\"BACKGROUND\"\n",
            "Topic 2 : 0.000*\"//nyti.ms/2NDA4Yd\" + 0.000*\"tunnels.\" + 0.000*\"destination\" + 0.000*\"outs\" + 0.000*\"//bit.ly/2q0wopL\" + 0.000*\"newest\" + 0.000*\"Topic\" + 0.000*\"VE\" + 0.000*\"Wysocki\" + 0.000*\"g_lvxjdwh6i\"\n",
            "Topic 3 : 0.000*\"5K\" + 0.000*\"athlete\" + 0.000*\"TSRSpan_27\" + 0.000*\"js_53b\" + 0.000*\"Mackinac\" + 0.000*\"//www.facebook.com/OzForGovCT/\" + 0.000*\"Depression\" + 0.000*\"Attorney/Youth\" + 0.000*\"14253\" + 0.000*\"District4\"\n",
            "Topic 4 : 0.000*\"u_fetchstream_1_1m\" + 0.000*\"Accomplished\" + 0.000*\"//pp-facebook-ads.s3.amazonaws.com/images/emoji.php/v9/f3a/1/16/1f645_1f3fd_200d_2640.png\" + 0.000*\"chairs\" + 0.000*\"eye-opening\" + 0.000*\"//www.gofundme.com/backtolifecampaign\" + 0.000*\"column\" + 0.000*\"//bit.ly/2OOGMjh\" + 0.000*\"EndWar\" + 0.000*\"Wisconsin-owned\"\n",
            "Topic 5 : 0.000*\"//www.facebook.com/CleanHealthyAZ/\" + 0.000*\"demographer\" + 0.000*\"//www.facebook.com/2019756574913902\" + 0.000*\"MariaElviraSalazarForCongress\" + 0.000*\"restoration\" + 0.000*\"11am-4pm\" + 0.000*\"LIVE\" + 0.000*\"legacies\" + 0.000*\"enrollee\" + 0.000*\"js_8da\"\n"
          ]
        }
      ]
    },
    {
      "cell_type": "markdown",
      "source": [
        "# Analyze the distribution of political and non-political ads and visualize"
      ],
      "metadata": {
        "id": "Li1603IwXsDj"
      }
    },
    {
      "cell_type": "code",
      "source": [
        "\n",
        "# Analyze the distribution of political and non-political ads\n",
        "political_ads = data[data['political'] == 1]\n",
        "non_political_ads = data[data['not_political'] == 1]\n",
        "\n",
        "total_ads = len(data)\n",
        "num_political_ads = len(political_ads)\n",
        "num_non_political_ads = len(non_political_ads)\n",
        "\n",
        "percentage_political = (num_political_ads / total_ads) * 100\n",
        "percentage_non_political = (num_non_political_ads / total_ads) * 100\n",
        "\n",
        "# Visualize the results using a bar chart\n",
        "categories = ['Political', 'Non-Political']\n",
        "percentages = [percentage_political, percentage_non_political]\n",
        "\n",
        "plt.bar(categories, percentages)\n",
        "plt.xlabel('Ad Category')\n",
        "plt.ylabel('Percentage')\n",
        "plt.title('Political vs. Non-Political Ads Distribution')\n",
        "plt.show()"
      ],
      "metadata": {
        "colab": {
          "base_uri": "https://localhost:8080/",
          "height": 472
        },
        "id": "EekuS1CbXs_I",
        "outputId": "cad543ea-645a-47e0-e837-13943797e4b1"
      },
      "execution_count": null,
      "outputs": [
        {
          "output_type": "display_data",
          "data": {
            "text/plain": [
              "<Figure size 640x480 with 1 Axes>"
            ],
            "image/png": "[encoded data removed]"
          },
          "metadata": {}
        }
      ]
    },
    {
      "cell_type": "markdown",
      "source": [
        "# Time Analysis\n",
        "## Analyze temporal patterns"
      ],
      "metadata": {
        "id": "ZxnYY7h5Y4tr"
      }
    },
    {
      "cell_type": "code",
      "source": [
        "# Convert 'created_at' and 'updated_at' columns to datetime\n",
        "data['created_at'] = pd.to_datetime(data['created_at'])\n",
        "data['updated_at'] = pd.to_datetime(data['updated_at'])\n",
        "\n",
        "# Extract date and time components\n",
        "data['created_date'] = data['created_at'].dt.date\n",
        "data['created_time'] = data['created_at'].dt.time\n",
        "data['updated_date'] = data['updated_at'].dt.date\n",
        "data['updated_time'] = data['updated_at'].dt.time\n",
        "\n",
        "# Analyze distribution of ads over time\n",
        "ads_per_date = data['created_date'].value_counts().sort_index()\n",
        "\n",
        "# Plot the distribution of ads over time\n",
        "plt.figure(figsize=(12, 6))\n",
        "plt.plot(ads_per_date.index, ads_per_date.values)\n",
        "plt.xlabel('Date')\n",
        "plt.ylabel('Number of Ads')\n",
        "plt.title('Distribution of Ads Over Time')\n",
        "plt.xticks(rotation=45)\n",
        "plt.show()\n",
        "\n",
        "# Identify periods of high or low ad activity\n",
        "most_active_date = ads_per_date.idxmax()\n",
        "least_active_date = ads_per_date.idxmin()\n",
        "\n",
        "print(\"Most Active Date:\", most_active_date)\n",
        "print(\"Least Active Date:\", least_active_date)\n"
      ],
      "metadata": {
        "colab": {
          "base_uri": "https://localhost:8080/",
          "height": 636
        },
        "id": "lMng1bcpY41p",
        "outputId": "04fd1007-25d3-4350-fd76-d46fedf03733"
      },
      "execution_count": null,
      "outputs": [
        {
          "output_type": "display_data",
          "data": {
            "text/plain": [
              "<Figure size 1200x600 with 1 Axes>"
            ],
            "image/png": "[encoded data removed]"
          },
          "metadata": {}
        },
        {
          "output_type": "stream",
          "name": "stdout",
          "text": [
            "Most Active Date: 2018-11-06\n",
            "Least Active Date: 2019-02-13\n"
          ]
        }
      ]
    },
    {
      "cell_type": "markdown",
      "source": [
        "## Advertiser Analysis"
      ],
      "metadata": {
        "id": "mtQDLHe_Y4-g"
      }
    },
    {
      "cell_type": "code",
      "source": [
        "# Analyze the distribution of advertisers\n",
        "advertiser_counts = data['advertiser'].value_counts()\n",
        "\n",
        "# Identify the top advertisers\n",
        "num_top_advertisers = 10  # Number of top advertisers to display\n",
        "top_advertisers = advertiser_counts.head(num_top_advertisers)\n",
        "\n",
        "# Plot the distribution of top advertisers\n",
        "plt.figure(figsize=(10, 6))\n",
        "top_advertisers.plot(kind='bar')\n",
        "plt.xlabel('Advertiser')\n",
        "plt.ylabel('Number of Ads')\n",
        "plt.title('Top Advertisers')\n",
        "plt.xticks(rotation=45)\n",
        "plt.show()\n",
        "\n",
        "# Analyze political and non-political ad ratios\n",
        "political_ads = data[data['political'] == 1]\n",
        "non_political_ads = data[data['not_political'] == 1]\n",
        "total_political_ads = political_ads.shape[0]\n",
        "total_non_political_ads = non_political_ads.shape[0]\n",
        "\n",
        "# Calculate political and non-political ad ratios for top advertisers\n",
        "advertiser_ratios = {}\n",
        "for advertiser in top_advertisers.index:\n",
        "    advertiser_political_ads = political_ads[political_ads['advertiser'] == advertiser].shape[0]\n",
        "    advertiser_non_political_ads = non_political_ads[non_political_ads['advertiser'] == advertiser].shape[0]\n",
        "    advertiser_ratios[advertiser] = {\n",
        "        'political_ratio': advertiser_political_ads / total_political_ads,\n",
        "        'non_political_ratio': advertiser_non_political_ads / total_non_political_ads\n",
        "    }\n",
        "\n",
        "# Display the political and non-political ad ratios for top advertisers\n",
        "print(\"Political and Non-Political Ad Ratios for Top Advertisers:\")\n",
        "for advertiser, ratios in advertiser_ratios.items():\n",
        "    print(advertiser)\n",
        "    print(\"Political Ratio:\", ratios['political_ratio'])\n",
        "    print(\"Non-Political Ratio:\", ratios['non_political_ratio'])\n",
        "    print()\n"
      ],
      "metadata": {
        "colab": {
          "base_uri": "https://localhost:8080/",
          "height": 1000
        },
        "id": "xGq1NW02Y5GM",
        "outputId": "9d78d4bc-baae-4d49-aece-31ab39e4fa34"
      },
      "execution_count": null,
      "outputs": [
        {
          "output_type": "display_data",
          "data": {
            "text/plain": [
              "<Figure size 1000x600 with 1 Axes>"
            ],
            "image/png": "[encoded data removed]"
          },
          "metadata": {}
        },
        {
          "output_type": "stream",
          "name": "stdout",
          "text": [
            "Political and Non-Political Ad Ratios for Top Advertisers:\n",
            "Beto O'Rourke\n",
            "Political Ratio: 0.02114698459664085\n",
            "Non-Political Ratio: 0.011625827222321588\n",
            "\n",
            "Donald J. Trump\n",
            "Political Ratio: 0.014620137498912193\n",
            "Non-Political Ratio: 0.013861563226614202\n",
            "\n",
            "MoveOn\n",
            "Political Ratio: 0.01140022626403272\n",
            "Non-Political Ratio: 0.010999821141119656\n",
            "\n",
            "ACLU\n",
            "Political Ratio: 0.010442955356365852\n",
            "Non-Political Ratio: 0.017081023072795565\n",
            "\n",
            "Planned Parenthood Action\n",
            "Political Ratio: 0.01140022626403272\n",
            "Non-Political Ratio: 0.015471293149704883\n",
            "\n",
            "Penzeys Spices\n",
            "Political Ratio: 0.012705595683578453\n",
            "Non-Political Ratio: 0.012609551064210339\n",
            "\n",
            "Planned Parenthood\n",
            "Political Ratio: 0.009311635192759552\n",
            "Non-Political Ratio: 0.011715256662493293\n",
            "\n",
            "Feeding America\n",
            "Political Ratio: 0.010878078496214428\n",
            "Non-Political Ratio: 0.006617778572706135\n",
            "\n",
            "Tom Steyer\n",
            "Political Ratio: 0.006526847097728657\n",
            "Non-Political Ratio: 0.006349490252191022\n",
            "\n",
            "Ocean Conservancy\n",
            "Political Ratio: 0.0075711426333652425\n",
            "Non-Political Ratio: 0.00849579681631193\n",
            "\n"
          ]
        }
      ]
    },
    {
      "cell_type": "markdown",
      "source": [
        "## Political and non-political ad ratios"
      ],
      "metadata": {
        "id": "TLwa24ONZCAG"
      }
    },
    {
      "cell_type": "code",
      "source": [
        "# Create a pie chart of political and non-political ad ratios\n",
        "political_ads = data[data['political'] == 1].shape[0]\n",
        "non_political_ads = data[data['not_political'] == 1].shape[0]\n",
        "ad_labels = ['Political', 'Non-Political']\n",
        "ad_counts = [political_ads, non_political_ads]\n",
        "\n",
        "plt.figure(figsize=(6, 6))\n",
        "plt.pie(ad_counts, labels=ad_labels, autopct='%1.1f%%')\n",
        "plt.title('Political vs Non-Political Ads')\n",
        "plt.show()\n",
        "\n"
      ],
      "metadata": {
        "colab": {
          "base_uri": "https://localhost:8080/",
          "height": 521
        },
        "id": "U0xC-HdjZCGu",
        "outputId": "696cc34e-f23b-4b5d-d320-18f63637cf79"
      },
      "execution_count": null,
      "outputs": [
        {
          "output_type": "display_data",
          "data": {
            "text/plain": [
              "<Figure size 600x600 with 1 Axes>"
            ],
            "image/png": "[encoded data removed]"
          },
          "metadata": {}
        }
      ]
    },
    {
      "cell_type": "markdown",
      "source": [
        "# Mean Median Std"
      ],
      "metadata": {
        "id": "Tc8Cqvoqakia"
      }
    },
    {
      "cell_type": "code",
      "source": [
        "# Extract the 'political' and 'not_political' columns\n",
        "political_ads = data['political']\n",
        "non_political_ads = data['not_political']\n",
        "\n",
        "# Calculate the mean, median, and standard deviation for 'political' column\n",
        "political_mean = political_ads.mean()\n",
        "political_median = political_ads.median()\n",
        "political_std = political_ads.std()\n",
        "\n",
        "# Calculate the mean, median, and standard deviation for 'not_political' column\n",
        "non_political_mean = non_political_ads.mean()\n",
        "non_political_median = non_political_ads.median()\n",
        "non_political_std = non_political_ads.std()\n",
        "\n",
        "# Print the results\n",
        "print(\"Statistics for 'political' column:\")\n",
        "print(f\"Mean: {political_mean}\")\n",
        "print(f\"Median: {political_median}\")\n",
        "print(f\"Standard Deviation: {political_std}\\n\")\n",
        "\n",
        "print(\"Statistics for 'not_political' column:\")\n",
        "print(f\"Mean: {non_political_mean}\")\n",
        "print(f\"Median: {non_political_median}\")\n",
        "print(f\"Standard Deviation: {non_political_std}\")"
      ],
      "metadata": {
        "colab": {
          "base_uri": "https://localhost:8080/"
        },
        "id": "hVb2Zba1aktJ",
        "outputId": "391ad8bc-bb27-433a-e1ae-b9c756632ac2"
      },
      "execution_count": null,
      "outputs": [
        {
          "output_type": "stream",
          "name": "stdout",
          "text": [
            "Statistics for 'political' column:\n",
            "Mean: 6.637007495931923\n",
            "Median: 2.0\n",
            "Standard Deviation: 13.484827945900046\n",
            "\n",
            "Statistics for 'not_political' column:\n",
            "Mean: 1.075826286445968\n",
            "Median: 0.0\n",
            "Standard Deviation: 3.3534809081211625\n"
          ]
        }
      ]
    },
    {
      "cell_type": "markdown",
      "source": [],
      "metadata": {
        "id": "1qgKbrbbbEmI"
      }
    },
    {
      "cell_type": "code",
      "source": [
        "# Specify the ANOVA model formula\n",
        "formula = 'impressions ~ political * not_political'\n",
        "\n",
        "# Create a model for two-way ANOVA\n",
        "model = ols(formula, data=data).fit()\n",
        "\n",
        "# Perform two-way ANOVA\n",
        "anova_table = sm.stats.anova_lm(model, typ=2)\n",
        "\n",
        "# Print the ANOVA results\n",
        "print(anova_table)\n"
      ],
      "metadata": {
        "colab": {
          "base_uri": "https://localhost:8080/"
        },
        "id": "3MJzpn06b7Wc",
        "outputId": "af0c904f-2e27-4fe6-c999-7442a9907cf4"
      },
      "execution_count": null,
      "outputs": [
        {
          "output_type": "stream",
          "name": "stdout",
          "text": [
            "                               sum_sq       df            F         PR(>F)\n",
            "political                3.304761e+02      1.0    14.669508   1.282062e-04\n",
            "not_political            4.457620e+04      1.0  1978.693503   0.000000e+00\n",
            "political:not_political  1.189321e+04      1.0   527.927699  2.018646e-116\n",
            "Residual                 1.688932e+06  74970.0          NaN            NaN\n"
          ]
        }
      ]
    },
    {
      "cell_type": "markdown",
      "source": [
        "# T-statistic, F-value, and p-value for a two-way ANOVA"
      ],
      "metadata": {
        "id": "U4_Ep7p3cieU"
      }
    },
    {
      "cell_type": "code",
      "source": [
        "# Create a model for two-way ANOVA\n",
        "model = ols(formula, data=data).fit()\n",
        "\n",
        "# Perform two-way ANOVA\n",
        "anova_results = sm.stats.anova_lm(model, typ=2)\n",
        "\n",
        "# Extract T-statistic, F-value, and p-value\n",
        "t_statistic = model.tvalues\n",
        "f_value = anova_results['F']\n",
        "p_value = anova_results['PR(>F)']\n",
        "\n",
        "# Print the results\n",
        "print(\"T-statistic:\")\n",
        "print(t_statistic)\n",
        "print(\"\\nF-value:\")\n",
        "print(f_value)\n",
        "print(\"\\nP-value:\")\n",
        "print(p_value)\n"
      ],
      "metadata": {
        "colab": {
          "base_uri": "https://localhost:8080/"
        },
        "id": "1ZQ286m2cOTr",
        "outputId": "52173d42-ed7a-49b7-f24f-df02621e2648"
      },
      "execution_count": null,
      "outputs": [
        {
          "output_type": "stream",
          "name": "stdout",
          "text": [
            "T-statistic:\n",
            "Intercept                  89.197622\n",
            "political                   4.693510\n",
            "not_political              49.984692\n",
            "political:not_political   -22.976677\n",
            "dtype: float64\n",
            "\n",
            "F-value:\n",
            "political                    14.669508\n",
            "not_political              1978.693503\n",
            "political:not_political     527.927699\n",
            "Residual                           NaN\n",
            "Name: F, dtype: float64\n",
            "\n",
            "P-value:\n",
            "political                   1.282062e-04\n",
            "not_political               0.000000e+00\n",
            "political:not_political    2.018646e-116\n",
            "Residual                             NaN\n",
            "Name: PR(>F), dtype: float64\n"
          ]
        }
      ]
    }
  ]
}